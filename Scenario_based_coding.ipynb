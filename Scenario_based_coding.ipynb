{
 "cells": [
  {
   "cell_type": "code",
   "execution_count": 1,
   "id": "c3fd4c73-5605-4bc3-a1e5-b4d06dd81576",
   "metadata": {},
   "outputs": [
    {
     "name": "stdout",
     "output_type": "stream",
     "text": [
      "40\n"
     ]
    }
   ],
   "source": [
    "lst=[10,20,30,30,40,40,50]\n",
    "largest_num=max(lst)\n",
    "second_largest=max([i for i in lst if i!=largest_num])\n",
    "print(second_largest)\n"
   ]
  },
  {
   "cell_type": "code",
   "execution_count": 2,
   "id": "34c859ef-7fdf-4a42-9434-fd46a21a61bf",
   "metadata": {},
   "outputs": [
    {
     "name": "stdout",
     "output_type": "stream",
     "text": [
      "[1, 1, 0, 1]\n"
     ]
    }
   ],
   "source": [
    "num=13\n",
    "binary=[]\n",
    "while num>0:\n",
    "    quotient=num//2\n",
    "    remainder=num%2\n",
    "    num=quotient\n",
    "    binary.append(remainder)\n",
    "print(binary[::-1])"
   ]
  },
  {
   "cell_type": "code",
   "execution_count": 85,
   "id": "f570bb0d-e886-4a2e-a99d-a4919620fffa",
   "metadata": {},
   "outputs": [
    {
     "name": "stdout",
     "output_type": "stream",
     "text": [
      "[10, 10, 20, 20, 30, 40, 40, 60, 60, 100]\n"
     ]
    }
   ],
   "source": [
    "list1=[20,10,30,60,40]\n",
    "list2=[100,60,40,20,10]\n",
    "list3=list1+list2\n",
    "list3.sort()\n",
    "print(list3)   "
   ]
  },
  {
   "cell_type": "code",
   "execution_count": 86,
   "id": "2f8acc85-126d-403e-9ef2-ecc5533806e9",
   "metadata": {},
   "outputs": [
    {
     "name": "stdout",
     "output_type": "stream",
     "text": [
      "The First non-repeating character: p\n"
     ]
    }
   ],
   "source": [
    "string1=\"programming\"\n",
    "freq={}\n",
    "for i in string1:\n",
    "   freq[i]=freq.get(i,0)+1\n",
    "for i in string1:\n",
    "    if freq[i]==1:\n",
    "        print(\"The First non-repeating character:\",i)\n",
    "        break"
   ]
  },
  {
   "cell_type": "code",
   "execution_count": 17,
   "id": "9bb4e2c8-ec07-4409-8efc-efb274ef2164",
   "metadata": {},
   "outputs": [
    {
     "name": "stdout",
     "output_type": "stream",
     "text": [
      "[10, 20]\n"
     ]
    }
   ],
   "source": [
    "list1=[20,10,30,50,40]\n",
    "list2=[100,60,80,20,10]\n",
    "list3=set(list1)&set(list2)\n",
    "print(list(list3))"
   ]
  },
  {
   "cell_type": "code",
   "execution_count": 22,
   "id": "f1cd5414-61ba-4a00-b4bc-b9635584cf50",
   "metadata": {},
   "outputs": [
    {
     "name": "stdout",
     "output_type": "stream",
     "text": [
      "321\n"
     ]
    }
   ],
   "source": [
    "number=123\n",
    "num=str(number)\n",
    "print(num[::-1])"
   ]
  },
  {
   "cell_type": "code",
   "execution_count": 39,
   "id": "93c9f0cf-3494-4adb-ab93-7dfa53f3cbb8",
   "metadata": {},
   "outputs": [
    {
     "name": "stdout",
     "output_type": "stream",
     "text": [
      "5\n"
     ]
    }
   ],
   "source": [
    "sentence=\"Python is a programming language\"\n",
    "print(len(sentence.split()))"
   ]
  },
  {
   "cell_type": "code",
   "execution_count": 42,
   "id": "fb522987-7ac7-4e28-89b2-2d8b9b037047",
   "metadata": {},
   "outputs": [
    {
     "name": "stdout",
     "output_type": "stream",
     "text": [
      "120\n"
     ]
    }
   ],
   "source": [
    "n=5\n",
    "fact=1\n",
    "for i in range(1,n+1):\n",
    "   fact*=i\n",
    "print(fact)"
   ]
  },
  {
   "cell_type": "code",
   "execution_count": 58,
   "id": "d4d84cc3-c14d-4ce7-bb9b-3bb645588298",
   "metadata": {},
   "outputs": [
    {
     "name": "stdout",
     "output_type": "stream",
     "text": [
      "['PYTHON', 'IS', 'A', 'PROGRAMMING', 'LANGUAGE']\n"
     ]
    }
   ],
   "source": [
    "list1=[\"python\",\"is\",\"a\",\"programming\",\"language\"]\n",
    "upper_case=[i.upper() for i in list1]\n",
    "print(upper_case)"
   ]
  },
  {
   "cell_type": "code",
   "execution_count": 84,
   "id": "ccd1110a-704c-4a0d-8d6c-24df6e4cf7f7",
   "metadata": {},
   "outputs": [
    {
     "name": "stdout",
     "output_type": "stream",
     "text": [
      "6\n"
     ]
    }
   ],
   "source": [
    "a=48\n",
    "b=18\n",
    "while b!=0:\n",
    "   a,b=b,a%b\n",
    "print(a)\n",
    "    "
   ]
  },
  {
   "cell_type": "code",
   "execution_count": null,
   "id": "02db6ea0-8e4b-477d-aa31-a3ee89047aaa",
   "metadata": {},
   "outputs": [],
   "source": []
  }
 ],
 "metadata": {
  "kernelspec": {
   "display_name": "Python 3 (ipykernel)",
   "language": "python",
   "name": "python3"
  },
  "language_info": {
   "codemirror_mode": {
    "name": "ipython",
    "version": 3
   },
   "file_extension": ".py",
   "mimetype": "text/x-python",
   "name": "python",
   "nbconvert_exporter": "python",
   "pygments_lexer": "ipython3",
   "version": "3.12.0"
  }
 },
 "nbformat": 4,
 "nbformat_minor": 5
}
