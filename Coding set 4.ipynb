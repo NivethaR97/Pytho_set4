{
 "cells": [
  {
   "cell_type": "markdown",
   "id": "b0237e63-3ca3-4a53-b166-0c81bf0776db",
   "metadata": {
    "id": "236d4978"
   },
   "source": [
    "#1.Find the GCD of Two Numbers\n",
    "Question: Write a Python program to find the Greatest Common Divisor (GCD) of 36 and 60.\n"
   ]
  },
  {
   "cell_type": "code",
   "execution_count": 2,
   "id": "68bb9d2e",
   "metadata": {},
   "outputs": [
    {
     "name": "stdout",
     "output_type": "stream",
     "text": [
      "GCD of 12 and 18 is 6\n"
     ]
    }
   ],
   "source": [
    "num1=12\n",
    "num2=18\n",
    "set1=set()\n",
    "set2=set()\n",
    "for x in range(1,num1+1):\n",
    "    if num1%x==0:\n",
    "        set1.add(x)\n",
    "for y in range(1,num2+1):\n",
    "    if num2%y==0:\n",
    "        set2.add(y)\n",
    "common=max(set1&set2)\n",
    "print(f\"GCD of {num1} and {num2} is\",common)"
   ]
  },
  {
   "cell_type": "markdown",
   "id": "84469938",
   "metadata": {
    "id": "e1bfc6af"
   },
   "source": [
    "#2. Find the Sum of Digits of a Number\n",
    "Question: Write a Python program to find the sum of the digits of the number 987.\n",
    "\n",
    "\n"
   ]
  },
  {
   "cell_type": "code",
   "execution_count": 3,
   "id": "9cf20444",
   "metadata": {},
   "outputs": [
    {
     "name": "stdout",
     "output_type": "stream",
     "text": [
      "24\n"
     ]
    }
   ],
   "source": [
    "num=987\n",
    "number=str(987)\n",
    "add=sum(int(i) for i in number)\n",
    "print(add)"
   ]
  },
  {
   "cell_type": "markdown",
   "id": "33449ba2-891c-4c85-b325-315b430ee79d",
   "metadata": {
    "id": "e051bb22"
   },
   "source": [
    "#3. Find All Armstrong Numbers Between 1 and 1000\n",
    "Question: Write a Python program to print all Armstrong numbers between 1 and 1000.\n"
   ]
  },
  {
   "cell_type": "code",
   "execution_count": 59,
   "id": "bb281141-3148-4d2a-af34-19181e7bfc89",
   "metadata": {},
   "outputs": [
    {
     "name": "stdout",
     "output_type": "stream",
     "text": [
      "[1, 2, 3, 4, 5, 6, 7, 8, 9, 153, 370, 371, 407]\n"
     ]
    }
   ],
   "source": [
    "arm_num=[]\n",
    "for x in range (1,1000):\n",
    "    length=len(str(x))\n",
    "    arm=sum(int(i)**length for i in str(x))\n",
    "    if arm==x:\n",
    "        arm_num.append(x)\n",
    "print(arm_num)\n",
    "        "
   ]
  },
  {
   "cell_type": "markdown",
   "id": "c3c8a752-82f0-4996-b87e-e829bd6421f8",
   "metadata": {
    "id": "dbffe07b"
   },
   "source": [
    "#4.Count the Frequency of Each Character in a String\n",
    "Question: Write a Python program to count the frequency of each character in \"programming\".\n",
    "\n"
   ]
  },
  {
   "cell_type": "code",
   "execution_count": 135,
   "id": "3b895483",
   "metadata": {},
   "outputs": [
    {
     "name": "stdout",
     "output_type": "stream",
     "text": [
      "{'p': 1, 'r': 2, 'o': 1, 'g': 2, 'a': 1, 'm': 2, 'i': 1, 'n': 1}\n"
     ]
    }
   ],
   "source": [
    "str1=\"programming\"\n",
    "freq={}\n",
    "for i in str1:\n",
    "    if i in freq:\n",
    "        freq[i]+=1\n",
    "    else:\n",
    "        freq[i]=1\n",
    "print(freq)\n",
    "   \n"
   ]
  },
  {
   "cell_type": "markdown",
   "id": "b29ba142",
   "metadata": {
    "id": "f092013b"
   },
   "source": [
    "#5. Generate a List of Squares of Numbers from 1 to 10\n",
    "Question: Write a Python program to generate a list containing squares of numbers from 1 to 10.\n",
    "\n"
   ]
  },
  {
   "cell_type": "code",
   "execution_count": 136,
   "id": "970df60d",
   "metadata": {},
   "outputs": [
    {
     "data": {
      "text/plain": [
       "[1, 4, 9, 16, 25, 36, 49, 64, 81, 100]"
      ]
     },
     "execution_count": 136,
     "metadata": {},
     "output_type": "execute_result"
    }
   ],
   "source": [
    "def square():\n",
    "    x=[]\n",
    "    for i in range(1,11):\n",
    "        num=i**2\n",
    "        x.append(num)\n",
    "    return x\n",
    "square()\n"
   ]
  },
  {
   "cell_type": "code",
   "execution_count": null,
   "id": "85a782d9",
   "metadata": {
    "id": "85a782d9"
   },
   "outputs": [],
   "source": []
  }
 ],
 "metadata": {
  "colab": {
   "provenance": []
  },
  "kernelspec": {
   "display_name": "Python 3 (ipykernel)",
   "language": "python",
   "name": "python3"
  },
  "language_info": {
   "codemirror_mode": {
    "name": "ipython",
    "version": 3
   },
   "file_extension": ".py",
   "mimetype": "text/x-python",
   "name": "python",
   "nbconvert_exporter": "python",
   "pygments_lexer": "ipython3",
   "version": "3.12.0"
  }
 },
 "nbformat": 4,
 "nbformat_minor": 5
}
