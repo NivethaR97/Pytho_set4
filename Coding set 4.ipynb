{
 "cells": [
  {
   "cell_type": "code",
   "execution_count": null,
   "id": "236d4978",
   "metadata": {
    "id": "236d4978"
   },
   "outputs": [],
   "source": [
    "#1.Find the GCD of Two Numbers\n",
    "Question: Write a Python program to find the Greatest Common Divisor (GCD) of 36 and 60.\n"
   ]
  },
  {
   "cell_type": "code",
   "execution_count": null,
   "id": "68bb9d2e",
   "metadata": {},
   "outputs": [],
   "source": []
  },
  {
   "cell_type": "markdown",
   "id": "84469938",
   "metadata": {
    "id": "e1bfc6af"
   },
   "source": [
    "#2. Find the Sum of Digits of a Number\n",
    "Question: Write a Python program to find the sum of the digits of the number 987.\n",
    "\n",
    "\n"
   ]
  },
  {
   "cell_type": "code",
   "execution_count": 31,
   "id": "9cf20444",
   "metadata": {},
   "outputs": [
    {
     "ename": "TypeError",
     "evalue": "'function' object is not iterable",
     "output_type": "error",
     "traceback": [
      "\u001b[1;31m---------------------------------------------------------------------------\u001b[0m",
      "\u001b[1;31mTypeError\u001b[0m                                 Traceback (most recent call last)",
      "\u001b[1;32m~\\AppData\\Local\\Temp\\ipykernel_17108\\979455630.py\u001b[0m in \u001b[0;36m<module>\u001b[1;34m\u001b[0m\n\u001b[0;32m      5\u001b[0m         \u001b[0mx\u001b[0m\u001b[1;33m=\u001b[0m\u001b[0msum\u001b[0m\u001b[1;33m(\u001b[0m\u001b[0mnum\u001b[0m\u001b[1;33m)\u001b[0m\u001b[1;33m\u001b[0m\u001b[1;33m\u001b[0m\u001b[0m\n\u001b[0;32m      6\u001b[0m     \u001b[1;32mreturn\u001b[0m \u001b[0mx\u001b[0m\u001b[1;33m\u001b[0m\u001b[1;33m\u001b[0m\u001b[0m\n\u001b[1;32m----> 7\u001b[1;33m \u001b[0mnumber\u001b[0m\u001b[1;33m(\u001b[0m\u001b[1;36m987\u001b[0m\u001b[1;33m)\u001b[0m\u001b[1;33m\u001b[0m\u001b[1;33m\u001b[0m\u001b[0m\n\u001b[0m",
      "\u001b[1;32m~\\AppData\\Local\\Temp\\ipykernel_17108\\979455630.py\u001b[0m in \u001b[0;36mnumber\u001b[1;34m(a)\u001b[0m\n\u001b[0;32m      1\u001b[0m \u001b[1;32mdef\u001b[0m \u001b[0mnumber\u001b[0m\u001b[1;33m(\u001b[0m\u001b[0ma\u001b[0m\u001b[1;33m)\u001b[0m\u001b[1;33m:\u001b[0m\u001b[1;33m\u001b[0m\u001b[1;33m\u001b[0m\u001b[0m\n\u001b[0;32m      2\u001b[0m     \u001b[0mnum\u001b[0m\u001b[1;33m=\u001b[0m\u001b[1;33m[\u001b[0m\u001b[1;33m]\u001b[0m\u001b[1;33m\u001b[0m\u001b[1;33m\u001b[0m\u001b[0m\n\u001b[1;32m----> 3\u001b[1;33m     \u001b[1;32mfor\u001b[0m \u001b[0mi\u001b[0m \u001b[1;32min\u001b[0m \u001b[0mnumber\u001b[0m\u001b[1;33m:\u001b[0m\u001b[1;33m\u001b[0m\u001b[1;33m\u001b[0m\u001b[0m\n\u001b[0m\u001b[0;32m      4\u001b[0m         \u001b[0mnum\u001b[0m\u001b[1;33m.\u001b[0m\u001b[0mappend\u001b[0m\u001b[1;33m(\u001b[0m\u001b[0mint\u001b[0m\u001b[1;33m(\u001b[0m\u001b[0mi\u001b[0m\u001b[1;33m)\u001b[0m\u001b[1;33m)\u001b[0m\u001b[1;33m\u001b[0m\u001b[1;33m\u001b[0m\u001b[0m\n\u001b[0;32m      5\u001b[0m         \u001b[0mx\u001b[0m\u001b[1;33m=\u001b[0m\u001b[0msum\u001b[0m\u001b[1;33m(\u001b[0m\u001b[0mnum\u001b[0m\u001b[1;33m)\u001b[0m\u001b[1;33m\u001b[0m\u001b[1;33m\u001b[0m\u001b[0m\n",
      "\u001b[1;31mTypeError\u001b[0m: 'function' object is not iterable"
     ]
    }
   ],
   "source": [
    "def number(a):\n",
    "    num=[]\n",
    "    for i in number:\n",
    "        num.append(int(i))\n",
    "        x=sum(num)\n",
    "    return x\n",
    "number(987)\n"
   ]
  },
  {
   "cell_type": "code",
   "execution_count": null,
   "id": "e051bb22",
   "metadata": {
    "id": "e051bb22"
   },
   "outputs": [],
   "source": [
    "#3. Find All Armstrong Numbers Between 1 and 1000\n",
    "Question: Write a Python program to print all Armstrong numbers between 1 and 1000.\n"
   ]
  },
  {
   "cell_type": "code",
   "execution_count": null,
   "id": "dbffe07b",
   "metadata": {
    "id": "dbffe07b"
   },
   "outputs": [],
   "source": [
    "#4.Count the Frequency of Each Character in a String\n",
    "Question: Write a Python program to count the frequency of each character in \"programming\".\n",
    "\n"
   ]
  },
  {
   "cell_type": "code",
   "execution_count": 30,
   "id": "3b895483",
   "metadata": {},
   "outputs": [
    {
     "name": "stdout",
     "output_type": "stream",
     "text": [
      "['p']:1\n",
      "['p', 'r']:2\n",
      "['p', 'r', 'o']:3\n",
      "['p', 'r', 'o', 'g']:4\n",
      "['p', 'r', 'o', 'g', 'r']:5\n",
      "['p', 'r', 'o', 'g', 'r', 'a']:6\n",
      "['p', 'r', 'o', 'g', 'r', 'a', 'm']:7\n",
      "['p', 'r', 'o', 'g', 'r', 'a', 'm', 'm']:8\n",
      "['p', 'r', 'o', 'g', 'r', 'a', 'm', 'm', 'i']:9\n",
      "['p', 'r', 'o', 'g', 'r', 'a', 'm', 'm', 'i', 'n']:10\n",
      "['p', 'r', 'o', 'g', 'r', 'a', 'm', 'm', 'i', 'n', 'g']:11\n"
     ]
    }
   ],
   "source": [
    "str1=\"programming\"\n",
    "freq=[]\n",
    "count=0\n",
    "for i in str1:\n",
    "    if freq!=i:\n",
    "        freq.append(i)\n",
    "        count+=1\n",
    "        print(f\"{freq}:{count}\")"
   ]
  },
  {
   "cell_type": "markdown",
   "id": "b29ba142",
   "metadata": {
    "id": "f092013b"
   },
   "source": [
    "#5. Generate a List of Squares of Numbers from 1 to 10\n",
    "Question: Write a Python program to generate a list containing squares of numbers from 1 to 10.\n",
    "\n"
   ]
  },
  {
   "cell_type": "code",
   "execution_count": 17,
   "id": "970df60d",
   "metadata": {},
   "outputs": [
    {
     "data": {
      "text/plain": [
       "[1, 4, 9, 16, 25, 36, 49, 64, 81, 100]"
      ]
     },
     "execution_count": 17,
     "metadata": {},
     "output_type": "execute_result"
    }
   ],
   "source": [
    "def square():\n",
    "    x=[]\n",
    "    for i in range(1,11):\n",
    "        num=i**2\n",
    "        x.append(num)\n",
    "    return x\n",
    "square()\n"
   ]
  },
  {
   "cell_type": "code",
   "execution_count": null,
   "id": "3b44c858",
   "metadata": {
    "id": "3b44c858"
   },
   "outputs": [],
   "source": []
  },
  {
   "cell_type": "code",
   "execution_count": null,
   "id": "3d849771",
   "metadata": {
    "id": "3d849771"
   },
   "outputs": [],
   "source": []
  },
  {
   "cell_type": "code",
   "execution_count": null,
   "id": "7840dd7f",
   "metadata": {
    "id": "7840dd7f"
   },
   "outputs": [],
   "source": []
  },
  {
   "cell_type": "code",
   "execution_count": null,
   "id": "e7d58228",
   "metadata": {
    "id": "e7d58228"
   },
   "outputs": [],
   "source": []
  },
  {
   "cell_type": "code",
   "execution_count": null,
   "id": "85a782d9",
   "metadata": {
    "id": "85a782d9"
   },
   "outputs": [],
   "source": []
  }
 ],
 "metadata": {
  "colab": {
   "provenance": []
  },
  "kernelspec": {
   "display_name": "Python 3 (ipykernel)",
   "language": "python",
   "name": "python3"
  },
  "language_info": {
   "codemirror_mode": {
    "name": "ipython",
    "version": 3
   },
   "file_extension": ".py",
   "mimetype": "text/x-python",
   "name": "python",
   "nbconvert_exporter": "python",
   "pygments_lexer": "ipython3",
   "version": "3.7.1"
  }
 },
 "nbformat": 4,
 "nbformat_minor": 5
}
